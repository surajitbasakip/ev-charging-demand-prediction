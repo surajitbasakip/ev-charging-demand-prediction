{
 "cells": [
  {
   "cell_type": "code",
   "execution_count": 15,
   "id": "2a8c23ef-e4f1-46b9-9380-bba66ad9f9ce",
   "metadata": {},
   "outputs": [],
   "source": [
    "import pandas as pd\n",
    "from sklearn.preprocessing import StandardScaler\n",
    "import tensorflow as tf\n",
    "from sklearn.preprocessing import LabelEncoder\n",
    "from sklearn.preprocessing import MinMaxScaler"
   ]
  },
  {
   "cell_type": "code",
   "execution_count": 2,
   "id": "2197899c-d3fe-410c-aa63-ddfec8b72253",
   "metadata": {},
   "outputs": [
    {
     "name": "stdout",
     "output_type": "stream",
     "text": [
      "   sessionId  kwhTotal  dollars              created                ended  \\\n",
      "0    1366563      7.78     0.00  0014-11-18 15:40:26  0014-11-18 17:11:04   \n",
      "1    3075723      9.74     0.00  0014-11-19 17:40:26  0014-11-19 19:51:04   \n",
      "2    4228788      6.76     0.58  0014-11-21 12:05:46  0014-11-21 16:46:04   \n",
      "3    3173284      6.17     0.00  0014-12-03 19:16:12  0014-12-03 21:02:18   \n",
      "4    3266500      0.93     0.00  0014-12-11 20:56:11  0014-12-11 21:14:06   \n",
      "\n",
      "   startTime  endTime  chargeTimeHrs weekday platform  ...  managerVehicle  \\\n",
      "0         15       17       1.510556     Tue  android  ...               0   \n",
      "1         17       19       2.177222     Wed  android  ...               0   \n",
      "2         12       16       4.671667     Fri  android  ...               0   \n",
      "3         19       21       1.768333     Wed  android  ...               0   \n",
      "4         20       21       0.298611     Thu  android  ...               0   \n",
      "\n",
      "   facilityType  Mon  Tues  Wed  Thurs  Fri  Sat  Sun  reportedZip  \n",
      "0             3    0     1    0      0    0    0    0            0  \n",
      "1             3    0     0    1      0    0    0    0            0  \n",
      "2             3    0     0    0      0    1    0    0            0  \n",
      "3             3    0     0    1      0    0    0    0            0  \n",
      "4             3    0     0    0      1    0    0    0            0  \n",
      "\n",
      "[5 rows x 24 columns]\n"
     ]
    }
   ],
   "source": [
    "# File path\n",
    "file_path = \"/Users/freewheelin/Documents/ev_charging_station.txt\"\n",
    "\n",
    "# Load the dataset\n",
    "data = pd.read_csv(file_path)\n",
    "\n",
    "print(data.head())"
   ]
  },
  {
   "cell_type": "code",
   "execution_count": 315,
   "id": "27dde6fb-e546-4ce8-8814-2cc2ffc810e9",
   "metadata": {},
   "outputs": [
    {
     "name": "stdout",
     "output_type": "stream",
     "text": [
      "[35897499 65023200 27283509 29165598 77373351 78533433 30828105 97867440\n",
      " 90692118 26618922 88561539 49241808 33081741 57882330 19555569 78908148\n",
      " 36768303 72512154 37392894 37412595 48585042 47158353 45267948 32751774\n",
      " 76114467 77088033 84660741 98345808 81375624 32015313 92192265 92911698\n",
      " 95980995 46667907 82888443 46009656 92283246 11299464 75922902 30464676\n",
      " 33295482 94947534 87444027 50725917 58140225 24920478 30296079 10909503\n",
      " 85580550 27476262 68581656 29309940 25628328 54832140 48821751 24478344\n",
      " 81701631 50986683 86810130 81880524 74843010 66233970 41493375 39133512\n",
      " 39279042 29845530 45460701 81295434 14260257 10427670 93202560 24408549\n",
      " 17969193 13066218 90546786 41222907 95411349 75009330 83573325 39241917\n",
      " 14996520 59574735 32070852 58023207 26098875]\n"
     ]
    }
   ],
   "source": [
    "print(data[\"userId\"].unique())"
   ]
  },
  {
   "cell_type": "code",
   "execution_count": 293,
   "id": "7b85f18a-6c6b-44b2-bab2-b599c27ad397",
   "metadata": {},
   "outputs": [
    {
     "data": {
      "text/html": [
       "<div>\n",
       "<style scoped>\n",
       "    .dataframe tbody tr th:only-of-type {\n",
       "        vertical-align: middle;\n",
       "    }\n",
       "\n",
       "    .dataframe tbody tr th {\n",
       "        vertical-align: top;\n",
       "    }\n",
       "\n",
       "    .dataframe thead th {\n",
       "        text-align: right;\n",
       "    }\n",
       "</style>\n",
       "<table border=\"1\" class=\"dataframe\">\n",
       "  <thead>\n",
       "    <tr style=\"text-align: right;\">\n",
       "      <th></th>\n",
       "      <th>kwhTotal</th>\n",
       "      <th>created</th>\n",
       "      <th>ended</th>\n",
       "      <th>startTime</th>\n",
       "      <th>endTime</th>\n",
       "      <th>chargeTimeHrs</th>\n",
       "      <th>weekday</th>\n",
       "      <th>stationId</th>\n",
       "      <th>locationId</th>\n",
       "      <th>managerVehicle</th>\n",
       "      <th>...</th>\n",
       "      <th>Sat</th>\n",
       "      <th>Sun</th>\n",
       "      <th>created_hour</th>\n",
       "      <th>created_day</th>\n",
       "      <th>created_month</th>\n",
       "      <th>created_weekday</th>\n",
       "      <th>ended_hour</th>\n",
       "      <th>ended_day</th>\n",
       "      <th>ended_month</th>\n",
       "      <th>ended_weekday</th>\n",
       "    </tr>\n",
       "  </thead>\n",
       "  <tbody>\n",
       "    <tr>\n",
       "      <th>0</th>\n",
       "      <td>7.78</td>\n",
       "      <td>2014-11-18 15:40:26</td>\n",
       "      <td>2014-11-18 17:11:04</td>\n",
       "      <td>15</td>\n",
       "      <td>17</td>\n",
       "      <td>1.510556</td>\n",
       "      <td>Tue</td>\n",
       "      <td>582873</td>\n",
       "      <td>461655</td>\n",
       "      <td>0</td>\n",
       "      <td>...</td>\n",
       "      <td>0</td>\n",
       "      <td>0</td>\n",
       "      <td>15</td>\n",
       "      <td>18</td>\n",
       "      <td>11</td>\n",
       "      <td>1</td>\n",
       "      <td>17</td>\n",
       "      <td>18</td>\n",
       "      <td>11</td>\n",
       "      <td>1</td>\n",
       "    </tr>\n",
       "    <tr>\n",
       "      <th>1</th>\n",
       "      <td>9.74</td>\n",
       "      <td>2014-11-19 17:40:26</td>\n",
       "      <td>2014-11-19 19:51:04</td>\n",
       "      <td>17</td>\n",
       "      <td>19</td>\n",
       "      <td>2.177222</td>\n",
       "      <td>Wed</td>\n",
       "      <td>549414</td>\n",
       "      <td>461655</td>\n",
       "      <td>0</td>\n",
       "      <td>...</td>\n",
       "      <td>0</td>\n",
       "      <td>0</td>\n",
       "      <td>17</td>\n",
       "      <td>19</td>\n",
       "      <td>11</td>\n",
       "      <td>2</td>\n",
       "      <td>19</td>\n",
       "      <td>19</td>\n",
       "      <td>11</td>\n",
       "      <td>2</td>\n",
       "    </tr>\n",
       "    <tr>\n",
       "      <th>2</th>\n",
       "      <td>6.76</td>\n",
       "      <td>2014-11-21 12:05:46</td>\n",
       "      <td>2014-11-21 16:46:04</td>\n",
       "      <td>12</td>\n",
       "      <td>16</td>\n",
       "      <td>4.671667</td>\n",
       "      <td>Fri</td>\n",
       "      <td>129465</td>\n",
       "      <td>461655</td>\n",
       "      <td>0</td>\n",
       "      <td>...</td>\n",
       "      <td>0</td>\n",
       "      <td>0</td>\n",
       "      <td>12</td>\n",
       "      <td>21</td>\n",
       "      <td>11</td>\n",
       "      <td>4</td>\n",
       "      <td>16</td>\n",
       "      <td>21</td>\n",
       "      <td>11</td>\n",
       "      <td>4</td>\n",
       "    </tr>\n",
       "    <tr>\n",
       "      <th>3</th>\n",
       "      <td>6.17</td>\n",
       "      <td>2014-12-03 19:16:12</td>\n",
       "      <td>2014-12-03 21:02:18</td>\n",
       "      <td>19</td>\n",
       "      <td>21</td>\n",
       "      <td>1.768333</td>\n",
       "      <td>Wed</td>\n",
       "      <td>569889</td>\n",
       "      <td>461655</td>\n",
       "      <td>0</td>\n",
       "      <td>...</td>\n",
       "      <td>0</td>\n",
       "      <td>0</td>\n",
       "      <td>19</td>\n",
       "      <td>3</td>\n",
       "      <td>12</td>\n",
       "      <td>2</td>\n",
       "      <td>21</td>\n",
       "      <td>3</td>\n",
       "      <td>12</td>\n",
       "      <td>2</td>\n",
       "    </tr>\n",
       "    <tr>\n",
       "      <th>4</th>\n",
       "      <td>0.93</td>\n",
       "      <td>2014-12-11 20:56:11</td>\n",
       "      <td>2014-12-11 21:14:06</td>\n",
       "      <td>20</td>\n",
       "      <td>21</td>\n",
       "      <td>0.298611</td>\n",
       "      <td>Thu</td>\n",
       "      <td>414088</td>\n",
       "      <td>566549</td>\n",
       "      <td>0</td>\n",
       "      <td>...</td>\n",
       "      <td>0</td>\n",
       "      <td>0</td>\n",
       "      <td>20</td>\n",
       "      <td>11</td>\n",
       "      <td>12</td>\n",
       "      <td>3</td>\n",
       "      <td>21</td>\n",
       "      <td>11</td>\n",
       "      <td>12</td>\n",
       "      <td>3</td>\n",
       "    </tr>\n",
       "  </tbody>\n",
       "</table>\n",
       "<p>5 rows × 26 columns</p>\n",
       "</div>"
      ],
      "text/plain": [
       "   kwhTotal             created               ended  startTime  endTime  \\\n",
       "0      7.78 2014-11-18 15:40:26 2014-11-18 17:11:04         15       17   \n",
       "1      9.74 2014-11-19 17:40:26 2014-11-19 19:51:04         17       19   \n",
       "2      6.76 2014-11-21 12:05:46 2014-11-21 16:46:04         12       16   \n",
       "3      6.17 2014-12-03 19:16:12 2014-12-03 21:02:18         19       21   \n",
       "4      0.93 2014-12-11 20:56:11 2014-12-11 21:14:06         20       21   \n",
       "\n",
       "   chargeTimeHrs weekday  stationId  locationId  managerVehicle  ...  Sat  \\\n",
       "0       1.510556     Tue     582873      461655               0  ...    0   \n",
       "1       2.177222     Wed     549414      461655               0  ...    0   \n",
       "2       4.671667     Fri     129465      461655               0  ...    0   \n",
       "3       1.768333     Wed     569889      461655               0  ...    0   \n",
       "4       0.298611     Thu     414088      566549               0  ...    0   \n",
       "\n",
       "   Sun  created_hour  created_day  created_month  created_weekday  ended_hour  \\\n",
       "0    0            15           18             11                1          17   \n",
       "1    0            17           19             11                2          19   \n",
       "2    0            12           21             11                4          16   \n",
       "3    0            19            3             12                2          21   \n",
       "4    0            20           11             12                3          21   \n",
       "\n",
       "   ended_day  ended_month  ended_weekday  \n",
       "0         18           11              1  \n",
       "1         19           11              2  \n",
       "2         21           11              4  \n",
       "3          3           12              2  \n",
       "4         11           12              3  \n",
       "\n",
       "[5 rows x 26 columns]"
      ]
     },
     "execution_count": 293,
     "metadata": {},
     "output_type": "execute_result"
    }
   ],
   "source": [
    "data.head()"
   ]
  },
  {
   "cell_type": "code",
   "execution_count": 5,
   "id": "5f820ae5-53c0-4b97-abd0-31dc6a3c3d94",
   "metadata": {},
   "outputs": [],
   "source": [
    "# Define the total number of unique userIds and locationIdss\n",
    "num_users = data['userId'].nunique()  # E.g., 85 unique userIds\n",
    "num_locations = data['locationId'].nunique()  # E.g., 25 unique locationIds"
   ]
  },
  {
   "cell_type": "code",
   "execution_count": 7,
   "id": "55e787b5-2717-4868-9ee9-b11d33e0a83d",
   "metadata": {},
   "outputs": [],
   "source": [
    "# Label Encoding for userId and locationId\n",
    "user_encoder = LabelEncoder()\n",
    "location_encoder = LabelEncoder()\n",
    "\n",
    "# conert them into numbers ranging from 0 to user-1\n",
    "data['userId'] = user_encoder.fit_transform(data['userId'])\n",
    "data['locationId'] = location_encoder.fit_transform(data['locationId'])\n",
    "\n",
    "# Convert `userId` and `locationId` columns to TensorFlow tensors\n",
    "user_input = tf.convert_to_tensor(data['userId'].values, dtype=tf.int32)  # Shape: (num_samples,)\n",
    "location_input = tf.convert_to_tensor(data['locationId'].values, dtype=tf.int32)  # Shape: (num_samples,)\n",
    "\n",
    "#the number of unique user IDs\n",
    "num_users = len(user_encoder.classes_)\n",
    "num_locations = len(location_encoder.classes_)\n",
    "\n",
    "\n",
    "# Define embedding layers\n",
    "user_embedding_dim = 8  # You can choose any dimension\n",
    "location_embedding_dim = 8  # You can choose any dimension\n",
    "\n",
    "user_embedding_layer = tf.keras.layers.Embedding(input_dim=num_users, output_dim=user_embedding_dim, name='user_embedding')\n",
    "location_embedding_layer = tf.keras.layers.Embedding(input_dim=num_locations, output_dim=location_embedding_dim, name='location_embedding')\n",
    "\n",
    "# Generate embeddings\n",
    "user_embedding = user_embedding_layer(user_input)  # Shape: (num_samples, user_embedding_dim)\n",
    "location_embedding = location_embedding_layer(location_input)  # Shape: (num_samples, location_embedding_dim)\n",
    "\n",
    "# Flatten embeddings for concatenation\n",
    "user_embedding = tf.reshape(user_embedding, [-1, user_embedding_dim])\n",
    "location_embedding = tf.reshape(location_embedding, [-1, location_embedding_dim])\n",
    "\n",
    "# Now, userIds will be integers from 0 to (num_users - 1)"
   ]
  },
  {
   "cell_type": "code",
   "execution_count": 9,
   "id": "f888ad00-96de-40e2-bc87-5e8cca329dbb",
   "metadata": {},
   "outputs": [],
   "source": [
    "X_one_hot = tf.convert_to_tensor(data[['Mon', 'Tues', 'Wed', 'Thurs', 'Fri', 'Sat', 'Sun']].values, dtype=tf.float32)"
   ]
  },
  {
   "cell_type": "code",
   "execution_count": 17,
   "id": "ec7fbd01-a016-471b-8444-c83e2448172d",
   "metadata": {},
   "outputs": [],
   "source": [
    "### normalize the continuous variables\n",
    "# List of continuous features\n",
    "continuous_features = ['chargeTimeHrs', 'startTime', 'endTime']\n",
    "\n",
    "# Normalize the features\n",
    "scaler = MinMaxScaler()\n",
    "X_continuous = scaler.fit_transform(data[continuous_features])\n",
    "X_continuous = tf.convert_to_tensor(X_continuous, dtype=tf.float32)"
   ]
  },
  {
   "cell_type": "code",
   "execution_count": 27,
   "id": "466111ce-30b3-42de-932f-44ad161284d3",
   "metadata": {},
   "outputs": [],
   "source": [
    "# Final input tensor\n",
    "X_tf = tf.concat([user_embedding, location_embedding, X_one_hot, X_continuous], axis=1) "
   ]
  },
  {
   "cell_type": "code",
   "execution_count": 29,
   "id": "f4b6a5ff-e202-4a37-ad4d-9b228334fa9d",
   "metadata": {},
   "outputs": [],
   "source": [
    "X = tf.data.Dataset.from_tensor_slices(X_tf)"
   ]
  },
  {
   "cell_type": "code",
   "execution_count": 25,
   "id": "b8e8ef9b-7d79-461a-94e6-32e3103a9564",
   "metadata": {},
   "outputs": [
    {
     "name": "stdout",
     "output_type": "stream",
     "text": [
      "(3395, 8)\n",
      "(3395, 8)\n",
      "(3395, 7)\n",
      "(3395, 3)\n"
     ]
    }
   ],
   "source": [
    "print(user_embedding.shape)\n",
    "print(location_embedding.shape)\n",
    "print(X_one_hot.shape)\n",
    "print(X_continuous.shape)"
   ]
  },
  {
   "cell_type": "code",
   "execution_count": 33,
   "id": "f5bc4303-18d4-4037-aa9c-2ab7ff438a1c",
   "metadata": {},
   "outputs": [
    {
     "data": {
      "text/plain": [
       "<tf.Tensor: shape=(26,), dtype=float32, numpy=\n",
       "array([ 0.04555136,  0.02652695, -0.00805613, -0.01889117,  0.04915551,\n",
       "        0.01613381,  0.00942421, -0.00199133, -0.04398698, -0.0167832 ,\n",
       "        0.03193933,  0.04744608, -0.02144028, -0.00955456,  0.04770451,\n",
       "        0.04516765,  0.        ,  1.        ,  0.        ,  0.        ,\n",
       "        0.        ,  0.        ,  0.        ,  0.02712613,  0.65217394,\n",
       "        0.73913044], dtype=float32)>"
      ]
     },
     "execution_count": 33,
     "metadata": {},
     "output_type": "execute_result"
    }
   ],
   "source": [
    "next(iter(X))"
   ]
  },
  {
   "cell_type": "code",
   "execution_count": 42,
   "id": "9f7b4ae7-4611-4785-8221-2e157e01946a",
   "metadata": {},
   "outputs": [],
   "source": [
    "# Target variable\n",
    "y_tf = data['kwhTotal'].values\n",
    "y = tf.data.Dataset.from_tensor_slices(y_tf)"
   ]
  },
  {
   "cell_type": "code",
   "execution_count": null,
   "id": "e3e0e240-55af-4a99-be1a-d6e4dd4f2957",
   "metadata": {},
   "outputs": [],
   "source": []
  },
  {
   "cell_type": "markdown",
   "id": "a459f707-11cc-481d-9255-2bbc4043856b",
   "metadata": {},
   "source": [
    "Ignore the stuff below"
   ]
  },
  {
   "cell_type": "code",
   "execution_count": null,
   "id": "19f5c554-e7ea-4b72-93e5-1cba576079b5",
   "metadata": {},
   "outputs": [],
   "source": []
  },
  {
   "cell_type": "code",
   "execution_count": null,
   "id": "4c3bdf64-d97d-411a-8e53-6fbd0376e706",
   "metadata": {},
   "outputs": [],
   "source": []
  },
  {
   "cell_type": "code",
   "execution_count": 35,
   "id": "be548dd4-d7ae-4dcb-b638-f564abaf2b05",
   "metadata": {},
   "outputs": [],
   "source": [
    "# ignore this\n",
    "#########need revision in the coontext of the whole code\n",
    "# Replace \"0014\" with \"2014\" in the 'created' and 'ended' columns\n",
    "data[\"created\"] = data[\"created\"].str.replace(r\"^00(\\d{2})\", r\"20\\1\", regex=True)\n",
    "data[\"ended\"] = data[\"ended\"].str.replace(r\"^00(\\d{2})\", r\"20\\1\", regex=True)\n",
    "#data[\"created\"] = data[\"created\"].str.replace(r\"^0014\", \"2014\", regex=True)\n",
    "#data[\"ended\"] = data[\"ended\"].str.replace(r\"^0014\", \"2014\", regex=True)\n",
    "#data[\"created\"] = data[\"created\"].str.replace(r\"^0015\", \"2015\", regex=True)\n",
    "#data[\"ended\"] = data[\"ended\"].str.replace(r\"^0015\", \"2015\", regex=True)\n",
    "\n",
    "# Now convert the columns to datetime\n",
    "data[\"created\"] = pd.to_datetime(data[\"created\"], errors=\"coerce\")\n",
    "data[\"ended\"] = pd.to_datetime(data[\"ended\"], errors=\"coerce\")\n",
    "\n",
    "data['created_hour'] = data['created'].dt.hour\n",
    "data['created_day'] = data['created'].dt.day\n",
    "data['created_month'] = data['created'].dt.month\n",
    "data['created_weekday'] = data['created'].dt.weekday\n",
    "\n",
    "data['ended_hour'] = data['ended'].dt.hour\n",
    "data['ended_day'] = data['ended'].dt.day\n",
    "data['ended_month'] = data['ended'].dt.month\n",
    "data['ended_weekday'] = data['ended'].dt.weekday\n",
    "\n",
    "#drop the irrelevant tags\n",
    "data = data.drop([\"sessionId\", \"userId\", \"platform\", \"distance\", \"reportedZip\", \"dollars\"], axis=1)"
   ]
  },
  {
   "cell_type": "code",
   "execution_count": null,
   "id": "09a0cbfd-dc39-45ca-b305-48147e00316a",
   "metadata": {},
   "outputs": [],
   "source": []
  },
  {
   "cell_type": "code",
   "execution_count": null,
   "id": "9a72c340-25e4-4bda-b567-a6ca707b68f6",
   "metadata": {},
   "outputs": [],
   "source": []
  }
 ],
 "metadata": {
  "kernelspec": {
   "display_name": "Python 3 (ipykernel)",
   "language": "python",
   "name": "python3"
  },
  "language_info": {
   "codemirror_mode": {
    "name": "ipython",
    "version": 3
   },
   "file_extension": ".py",
   "mimetype": "text/x-python",
   "name": "python",
   "nbconvert_exporter": "python",
   "pygments_lexer": "ipython3",
   "version": "3.12.7"
  }
 },
 "nbformat": 4,
 "nbformat_minor": 5
}
